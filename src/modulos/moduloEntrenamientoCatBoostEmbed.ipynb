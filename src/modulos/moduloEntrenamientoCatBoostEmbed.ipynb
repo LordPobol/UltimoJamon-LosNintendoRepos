{
 "cells": [
  {
   "cell_type": "code",
   "execution_count": 1,
   "metadata": {},
   "outputs": [],
   "source": [
    "import os\n",
    "import sys"
   ]
  },
  {
   "cell_type": "code",
   "execution_count": 3,
   "metadata": {},
   "outputs": [],
   "source": [
    "#FUNCIONES PERSONALIZADAS PARA LOS MODELOS\n",
    "sys.path.append(os.path.abspath(\"../funciones\"))\n",
    "\n",
    "#IMPORAR FUNCIONES AUXILIARES PERSONALIZADAS DESDE EL MÓDULO\n",
    "from funcionesEntrenamiento import (\n",
    "    cargar_datos_entrenamiento,\n",
    "    cargar_datos_prueba,\n",
    "    imprimir_forma,\n",
    "    division_train_val,\n",
    "    reporte_clasificacion,\n",
    "    crear_matriz_confusion,\n",
    "    calcular_roc_auc,\n",
    "    metricas_tpr_fpr,\n",
    "    hacer_pepinillo\n",
    ")\n",
    "\n",
    "from funcionesEntrenamientoRoBERTa import(\n",
    "    data4embed,\n",
    "    get_embeddings\n",
    ")"
   ]
  },
  {
   "cell_type": "code",
   "execution_count": 5,
   "metadata": {},
   "outputs": [],
   "source": [
    "# Obtener embeddings\n",
    "X = get_embeddings(texts)"
   ]
  },
  {
   "cell_type": "code",
   "execution_count": 6,
   "metadata": {},
   "outputs": [
    {
     "data": {
      "text/plain": [
       "<catboost.core.CatBoostClassifier at 0x1b078b5f440>"
      ]
     },
     "execution_count": 6,
     "metadata": {},
     "output_type": "execute_result"
    }
   ],
   "source": [
    "# Entrenar Catbust\n",
    "clf = CatBoostClassifier(verbose=0)\n",
    "clf.fit(X, labels)\n"
   ]
  },
  {
   "cell_type": "code",
   "execution_count": 7,
   "metadata": {},
   "outputs": [
    {
     "name": "stdout",
     "output_type": "stream",
     "text": [
      "[0 1 0 ... 1 0 1]\n"
     ]
    }
   ],
   "source": [
    "# 5. Predict\n",
    "predictions = clf.predict(X)\n",
    "print(predictions)"
   ]
  }
 ],
 "metadata": {
  "kernelspec": {
   "display_name": "ia-env",
   "language": "python",
   "name": "python3"
  },
  "language_info": {
   "codemirror_mode": {
    "name": "ipython",
    "version": 3
   },
   "file_extension": ".py",
   "mimetype": "text/x-python",
   "name": "python",
   "nbconvert_exporter": "python",
   "pygments_lexer": "ipython3",
   "version": "3.12.9"
  }
 },
 "nbformat": 4,
 "nbformat_minor": 2
}
